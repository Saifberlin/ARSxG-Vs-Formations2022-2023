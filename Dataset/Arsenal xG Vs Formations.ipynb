{
 "cells":[
  {
   "cell_type":"code",
   "source":[
    "#import packages\n",
    "import pandas as pd\n",
    "import matplotlib as mpl\n",
    "import matplotlib.pyplot as plt"
   ],
   "execution_count":44,
   "outputs":[
    
   ],
   "metadata":{
    "datalore":{
     "node_id":"wsu53Y8BNisFZFx6nvLLjE",
     "type":"CODE",
     "hide_input_from_viewers":false,
     "hide_output_from_viewers":false,
     "report_properties":{
      "rowId":"2kIYeJkwvVJElsEBmm99UD"
     }
    }
   }
  },
  {
   "cell_type":"code",
   "source":[
    "df = pd.read_csv('Arsenal xG Vs Formations.csv')"
   ],
   "execution_count":96,
   "outputs":[
    
   ],
   "metadata":{
    "datalore":{
     "node_id":"BeMwawZnoK4qJYRY6q0qnK",
     "type":"CODE",
     "hide_input_from_viewers":false,
     "hide_output_from_viewers":false,
     "report_properties":{
      "rowId":"q0zkPCDBVrJSoxR2bsIeUG"
     }
    }
   }
  },
  {
   "cell_type":"code",
   "source":[
    "df"
   ],
   "execution_count":97,
   "outputs":[
    {
     "data":{
      "text\/html":[
       "<div>\n",
       "<style scoped>\n",
       "    .dataframe tbody tr th:only-of-type {\n",
       "        vertical-align: middle;\n",
       "    }\n",
       "\n",
       "    .dataframe tbody tr th {\n",
       "        vertical-align: top;\n",
       "    }\n",
       "\n",
       "    .dataframe thead th {\n",
       "        text-align: right;\n",
       "    }\n",
       "<\/style>\n",
       "<table border=\"1\" class=\"dataframe\">\n",
       "  <thead>\n",
       "    <tr style=\"text-align: right;\">\n",
       "      <th><\/th>\n",
       "      <th>Formation\\txG\\t\\t\\t\\t\\t\\t\\t\\t<\/th>\n",
       "    <\/tr>\n",
       "  <\/thead>\n",
       "  <tbody>\n",
       "    <tr>\n",
       "      <th>0<\/th>\n",
       "      <td>4-3-3\\t55.45\\t\\t\\t\\t\\t\\t\\t\\t<\/td>\n",
       "    <\/tr>\n",
       "    <tr>\n",
       "      <th>1<\/th>\n",
       "      <td>4-2-3-1\\t19.56\\t\\t\\t\\t\\t\\t\\t\\t<\/td>\n",
       "    <\/tr>\n",
       "    <tr>\n",
       "      <th>2<\/th>\n",
       "      <td>3-4-2-1\\t1.83\\t\\t\\t\\t\\t\\t\\t\\t<\/td>\n",
       "    <\/tr>\n",
       "    <tr>\n",
       "      <th>3<\/th>\n",
       "      <td>5-4-1\\t0.03\\t\\t\\t\\t\\t\\t\\t\\t<\/td>\n",
       "    <\/tr>\n",
       "    <tr>\n",
       "      <th>4<\/th>\n",
       "      <td>3-1-4-2\\t0.75\\t\\t\\t\\t\\t\\t\\t\\t<\/td>\n",
       "    <\/tr>\n",
       "    <tr>\n",
       "      <th>5<\/th>\n",
       "      <td>4-1-4-1\\t0.21\\t\\t\\t\\t\\t\\t\\t\\t<\/td>\n",
       "    <\/tr>\n",
       "    <tr>\n",
       "      <th>6<\/th>\n",
       "      <td>5-3-2\\t0.00\\t\\t\\t\\t\\t\\t\\t\\t<\/td>\n",
       "    <\/tr>\n",
       "  <\/tbody>\n",
       "<\/table>\n",
       "<\/div>"
      ]
     },
     "metadata":{
      
     },
     "output_type":"display_data"
    }
   ],
   "metadata":{
    "datalore":{
     "node_id":"3MfW38MjrDfTvmiomRUdQI",
     "type":"CODE",
     "hide_input_from_viewers":false,
     "hide_output_from_viewers":false,
     "report_properties":{
      "rowId":"9DmhqEXFTOQOusY4I5sY2a",
      "x":0,
      "relativeY":0,
      "width":1,
      "height":6
     }
    }
   }
  },
  {
   "cell_type":"code",
   "source":[
    "import matplotlib.pyplot as plt\n",
    "import matplotlib.font_manager as fm\n",
    "import matplotlib.image as mpimg\n",
    "\n",
    "# set the background color to white for all plots\n",
    "plt.rcParams['figure.facecolor'] = 'white'\n",
    "\n",
    "# sample data\n",
    "x = ['4-3-3', '4-2-3-1', '3-4-2-1', '3-1-4-2', '4-1-4-1', '5-4-1']\n",
    "y = [55.45, 19.56, 1.83, 0.75, 0.21, 0.03]\n",
    "\n",
    "# create a larger figure\n",
    "fig = plt.figure(figsize=(10, 10), facecolor='white')\n",
    "\n",
    "# create a figure and axis object\n",
    "fig, ax = plt.subplots()\n",
    "\n",
    "# create the scatter plot\n",
    "ax.scatter(x, y)\n",
    "\n",
    "# set the plot title and axis labels with Menlo font\n",
    "font = {'family': 'Menlo', 'size': 12}\n",
    "title = ax.set_title('Arsenal xG Vs Formations [2022\/2023] ', fontdict=font,fontsize=12,weight='bold', y=1.0)\n",
    "title.set_color('red')  # set the color of the title to red\n",
    "ax.set_xlabel('Formation', fontdict=font,fontsize=10,weight='bold')\n",
    "ax.set_ylabel('xG', fontdict=font, fontsize=10,weight='bold')\n",
    "\n",
    "# set the x-axis tick locations and labels\n",
    "ax.set_xticks(range(len(x)))\n",
    "ax.set_xticklabels(x)\n",
    "\n",
    "# set the y-axis ticklocations and labels\n",
    "ax.set_ylim([0, 60])\n",
    "ax.set_yticks(range(0, 61, 10))\n",
    "ax.set_yticklabels(range(0, 61, 10))\n",
    "\n",
    "# add labels to each point\n",
    "for i, j in zip(x, y):\n",
    "    ax.text(i, j+1, str(j), horizontalalignment='left', fontsize=10)\n",
    "\n",
    "# add lines between the points\n",
    "ax.plot(x, y, color='black')\n",
    "\n",
    "# Add a grid to the chart\n",
    "ax.grid(which='major', color='gray', linestyle='--', linewidth=0.4)\n",
    "\n",
    "# add credit\n",
    "fig.text(0.5, -0.2, 'Created by (@SeifAjax04). Source of data via: [Understat.com].', color=\"#000000\",\n",
    "        transform=ax.transAxes, ha='center', fontsize=8)\n",
    "fig.text(0.5, -0.3, 'seifkhaled.me', color=\"#000000\",\n",
    "        transform=ax.transAxes, ha='center', fontsize=8)\n",
    "\n",
    "# save the plot as a PNG image in Datlore workspace\n",
    "plt.savefig('ARSxG.png', dpi=300)\n",
    "\n",
    "# show the plot\n",
    "plt.show()"
   ],
   "execution_count":11,
   "outputs":[
    {
     "data":{
      "text\/plain":[
       "<Figure size 720x720 with 0 Axes>"
      ]
     },
     "metadata":{
      
     },
     "output_type":"display_data"
    },
    {
     "data":{
      "image\/png":"[encoded data removed]"
     },
     "metadata":{
      "image\/png":{
       
      }
     },
     "output_type":"display_data"
    }
   ],
   "metadata":{
    "datalore":{
     "node_id":"ClLlbFvEHI3XBuBr1v2I38",
     "type":"CODE",
     "hide_input_from_viewers":true,
     "hide_output_from_viewers":true
    }
   }
  },
  {
   "cell_type":"code",
   "source":[
    "!pip install matplotlib==3.4.3\n",
    "!wget \"https:\/\/github.com\/ryanoasis\/nerd-fonts\/releases\/download\/v2.1.0\/Menlo.zip\"\n",
    "!unzip Menlo.zip -d \/usr\/share\/fonts\/truetype\/"
   ],
   "execution_count":2,
   "outputs":[
    {
     "name":"stdout",
     "text":[
      "Collecting matplotlib==3.4.3\r\n",
      "  Downloading matplotlib-3.4.3-cp38-cp38-manylinux1_x86_64.whl (10.3 MB)\r\n",
      "\u001b[?25l     \u001b[90m━━━━━━━━━━━━━━━━━━━━━━━━━━━━━━━━━━━━━━━━\u001b[0m \u001b[32m0.0\/10.3 MB\u001b[0m \u001b[31m?\u001b[0m eta \u001b[36m-:--:--\u001b[0m\r\u001b[2K     \u001b[91m━━━━━━━━\u001b[0m\u001b[91m╸\u001b[0m\u001b[90m━━━━━━━━━━━━━━━━━━━━━━━━━━━━━━━\u001b[0m \u001b[32m2.3\/10.3 MB\u001b[0m \u001b[31m68.4 MB\/s\u001b[0m eta \u001b[36m0:00:01\u001b[0m\r\u001b[2K     \u001b[91m━━━━━━━━━━━━━━━━━━━\u001b[0m\u001b[91m╸\u001b[0m\u001b[90m━━━━━━━━━━━━━━━━━━━━\u001b[0m \u001b[32m5.1\/10.3 MB\u001b[0m \u001b[31m73.5 MB\/s\u001b[0m eta \u001b[36m0:00:01\u001b[0m\r\u001b[2K     \u001b[91m━━━━━━━━━━━━━━━━━━━━━━━━━━━\u001b[0m\u001b[91m╸\u001b[0m\u001b[90m━━━━━━━━━━━━\u001b[0m \u001b[32m7.2\/10.3 MB\u001b[0m \u001b[31m67.6 MB\/s\u001b[0m eta \u001b[36m0:00:01\u001b[0m\r\u001b[2K     \u001b[91m━━━━━━━━━━━━━━━━━━━━━━━━━━━━━━━━━\u001b[0m\u001b[90m╺\u001b[0m\u001b[90m━━━━━━\u001b[0m \u001b[32m8.5\/10.3 MB\u001b[0m \u001b[31m59.4 MB\/s\u001b[0m eta \u001b[36m0:00:01\u001b[0m\r\u001b[2K     \u001b[91m━━━━━━━━━━━━━━━━━━━━━━━━━━━━━━━━━━━━━━━\u001b[0m\u001b[91m╸\u001b[0m \u001b[32m10.3\/10.3 MB\u001b[0m \u001b[31m62.2 MB\/s\u001b[0m eta \u001b[36m0:00:01\u001b[0m\r\u001b[2K     \u001b[91m━━━━━━━━━━━━━━━━━━━━━━━━━━━━━━━━━━━━━━━\u001b[0m\u001b[91m╸\u001b[0m \u001b[32m10.3\/10.3 MB\u001b[0m \u001b[31m62.2 MB\/s\u001b[0m eta \u001b[36m0:00:01\u001b[0m\r\u001b[2K     \u001b[90m━━━━━━━━━━━━━━━━━━━━━━━━━━━━━━━━━━━━━━━━\u001b[0m \u001b[32m10.3\/10.3 MB\u001b[0m \u001b[31m45.2 MB\/s\u001b[0m eta \u001b[36m0:00:00\u001b[0m\r\n",
      "\u001b[?25hRequirement already satisfied: kiwisolver>=1.0.1 in \/opt\/python\/envs\/default\/lib\/python3.8\/site-packages (from matplotlib==3.4.3) (1.4.4)\r\n",
      "Requirement already satisfied: python-dateutil>=2.7 in \/opt\/python\/envs\/default\/lib\/python3.8\/site-packages (from matplotlib==3.4.3) (2.8.2)\r\n",
      "Requirement already satisfied: pillow>=6.2.0 in \/opt\/python\/envs\/default\/lib\/python3.8\/site-packages (from matplotlib==3.4.3) (9.5.0)\r\n",
      "Requirement already satisfied: pyparsing>=2.2.1 in \/opt\/python\/envs\/default\/lib\/python3.8\/site-packages (from matplotlib==3.4.3) (3.0.9)\r\n",
      "Requirement already satisfied: cycler>=0.10 in \/opt\/python\/envs\/default\/lib\/python3.8\/site-packages (from matplotlib==3.4.3) (0.11.0)\r\n",
      "Requirement already satisfied: numpy>=1.16 in \/opt\/python\/envs\/default\/lib\/python3.8\/site-packages (from matplotlib==3.4.3) (1.23.5)\r\n",
      "Requirement already satisfied: six>=1.5 in \/opt\/python\/envs\/default\/lib\/python3.8\/site-packages (from python-dateutil>=2.7->matplotlib==3.4.3) (1.16.0)\r\n",
      "Installing collected packages: matplotlib\r\n",
      "  Attempting uninstall: matplotlib\r\n",
      "    Found existing installation: matplotlib 3.5.1\r\n",
      "    Uninstalling matplotlib-3.5.1:\r\n",
      "      Successfully uninstalled matplotlib-3.5.1\r\n",
      "Successfully installed matplotlib-3.4.3\r\n",
      "\r\n",
      "\u001b[1m[\u001b[0m\u001b[34;49mnotice\u001b[0m\u001b[1;39;49m]\u001b[0m\u001b[39;49m A new release of pip is available: \u001b[0m\u001b[31;49m23.0.1\u001b[0m\u001b[39;49m -> \u001b[0m\u001b[32;49m23.1.2\u001b[0m\r\n",
      "\u001b[1m[\u001b[0m\u001b[34;49mnotice\u001b[0m\u001b[1;39;49m]\u001b[0m\u001b[39;49m To update, run: \u001b[0m\u001b[32;49mpip install --upgrade pip\u001b[0m\r\n",
      "--2023-05-21 20:25:40--  https:\/\/github.com\/ryanoasis\/nerd-fonts\/releases\/download\/v2.1.0\/Menlo.zip\r\n",
      "Resolving github.com (github.com)... 140.82.121.3\r\n",
      "Connecting to github.com (github.com)|140.82.121.3|:443... connected.\r\n",
      "HTTP request sent, awaiting response... 404 Not Found\r\n",
      "2023-05-21 20:25:40 ERROR 404: Not Found.\r\n",
      "\r\n",
      "unzip:  cannot find or open Menlo.zip, Menlo.zip.zip or Menlo.zip.ZIP.\r\n"
     ],
     "output_type":"stream"
    }
   ],
   "metadata":{
    "datalore":{
     "node_id":"RMh7EFT3mRPFQ2BZBRxe5j",
     "type":"CODE",
     "hide_input_from_viewers":true,
     "hide_output_from_viewers":true
    }
   }
  }
 ],
 "metadata":{
  "kernelspec":{
   "display_name":"Python",
   "language":"python",
   "name":"python"
  },
  "datalore":{
   "computation_mode":"JUPYTER",
   "packages":[
    
   ],
   "report_row_ids":[
    "2kIYeJkwvVJElsEBmm99UD",
    "q0zkPCDBVrJSoxR2bsIeUG",
    "9DmhqEXFTOQOusY4I5sY2a"
   ],
   "version":3
  }
 },
 "nbformat":4,
 "nbformat_minor":4
}